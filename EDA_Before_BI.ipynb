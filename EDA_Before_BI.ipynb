{
  "nbformat": 4,
  "nbformat_minor": 0,
  "metadata": {
    "colab": {
      "provenance": [],
      "gpuType": "T4"
    },
    "kernelspec": {
      "name": "python3",
      "display_name": "Python 3"
    },
    "language_info": {
      "name": "python"
    },
    "accelerator": "GPU"
  },
  "cells": [
    {
      "cell_type": "markdown",
      "source": [
        "# Import Libraries & Data"
      ],
      "metadata": {
        "id": "gw9VEHtjivob"
      }
    },
    {
      "cell_type": "code",
      "execution_count": null,
      "metadata": {
        "colab": {
          "base_uri": "https://localhost:8080/"
        },
        "id": "0oEWvnQ9xwWt",
        "outputId": "1162b360-e306-4619-f82b-5b3efcdc7957"
      },
      "outputs": [
        {
          "output_type": "stream",
          "name": "stdout",
          "text": [
            "Mounted at /content/drive\n"
          ]
        }
      ],
      "source": [
        "from google.colab import drive\n",
        "drive.mount('/content/drive')"
      ]
    },
    {
      "cell_type": "code",
      "source": [
        "import pandas as pd\n",
        "\n",
        "# Specify the names of the desired sheets\n",
        "sheet_names = ['INFO LOJA', 'FERIADOS', 'EVENTOS', 'DADOS VENDAS']\n",
        "\n",
        "# Create a dictionary to store the DataFrames\n",
        "dataframes = {}\n",
        "\n",
        "# Read each sheet and store it in the dictionary\n",
        "for sheet_name in sheet_names:\n",
        "    dataframes[sheet_name] = pd.read_excel('/content/drive/MyDrive/PROJECT/Data/Dataset.xlsx', sheet_name=sheet_name)\n",
        "\n",
        "\n",
        "# Now, we have four separate DataFrames\n",
        "info_loja = dataframes['INFO LOJA']\n",
        "feriados = dataframes['FERIADOS']\n",
        "eventos = dataframes['EVENTOS']\n",
        "dados_vendas = dataframes['DADOS VENDAS']\n"
      ],
      "metadata": {
        "id": "h5w1Ns-RbtUK"
      },
      "execution_count": null,
      "outputs": []
    },
    {
      "cell_type": "markdown",
      "source": [
        "# Exploratory Data Analysis"
      ],
      "metadata": {
        "id": "HDk1U-S7sD-o"
      }
    },
    {
      "cell_type": "code",
      "source": [
        "print(\"Info_Loja:\")\n",
        "info_loja.info()\n",
        "print(\"\\n\" + \"=\"*50 + \"\\n\")\n",
        "\n",
        "print(\"Feriados:\")\n",
        "feriados.info()\n",
        "print(\"\\n\" + \"=\"*50 + \"\\n\")\n",
        "\n",
        "print(\"Eventos:\")\n",
        "eventos.info()\n",
        "print(\"\\n\" + \"=\"*50 + \"\\n\")\n",
        "\n",
        "print(\"Dados_Vendas:\")\n",
        "dados_vendas.info()\n",
        "print(\"\\n\" + \"=\"*50 + \"\\n\")\n"
      ],
      "metadata": {
        "colab": {
          "base_uri": "https://localhost:8080/"
        },
        "id": "rTGdDGmhe08X",
        "outputId": "ace147c5-23e6-40c6-85bd-c9b2c94e577f"
      },
      "execution_count": null,
      "outputs": [
        {
          "output_type": "stream",
          "name": "stdout",
          "text": [
            "Info_Loja:\n",
            "<class 'pandas.core.frame.DataFrame'>\n",
            "RangeIndex: 70 entries, 0 to 69\n",
            "Data columns (total 15 columns):\n",
            " #   Column               Non-Null Count  Dtype         \n",
            "---  ------               --------------  -----         \n",
            " 0   FK_LOJA              70 non-null     object        \n",
            " 1   LOJA                 70 non-null     object        \n",
            " 2   FK_CIDADE            70 non-null     int64         \n",
            " 3   CIDADE               70 non-null     object        \n",
            " 4   FK_REGIAO            70 non-null     int64         \n",
            " 5   REGIAO               70 non-null     object        \n",
            " 6   FK_SECAO             70 non-null     int64         \n",
            " 7   SECAO                70 non-null     object        \n",
            " 8   PRODUTIVIDADE/HORA   70 non-null     int64         \n",
            " 9   N_COLABORADORES      70 non-null     int64         \n",
            " 10  SKUS                 70 non-null     int64         \n",
            " 11  ABERTURA             70 non-null     datetime64[ns]\n",
            " 12  FECHO                70 non-null     datetime64[ns]\n",
            " 13  CAIXAS TRADICIONAIS  70 non-null     int64         \n",
            " 14  SELF CHECKOUTS       70 non-null     int64         \n",
            "dtypes: datetime64[ns](2), int64(8), object(5)\n",
            "memory usage: 8.3+ KB\n",
            "\n",
            "==================================================\n",
            "\n",
            "Feriados:\n",
            "<class 'pandas.core.frame.DataFrame'>\n",
            "RangeIndex: 2271 entries, 0 to 2270\n",
            "Data columns (total 6 columns):\n",
            " #   Column        Non-Null Count  Dtype         \n",
            "---  ------        --------------  -----         \n",
            " 0   FK_LOJA       2271 non-null   object        \n",
            " 1   LOJA          2244 non-null   object        \n",
            " 2   DATA          2271 non-null   datetime64[ns]\n",
            " 3   DESCRICAO     2271 non-null   object        \n",
            " 4   FERIADO_FIXO  2271 non-null   object        \n",
            " 5   TIPO          2271 non-null   object        \n",
            "dtypes: datetime64[ns](1), object(5)\n",
            "memory usage: 106.6+ KB\n",
            "\n",
            "==================================================\n",
            "\n",
            "Eventos:\n",
            "<class 'pandas.core.frame.DataFrame'>\n",
            "RangeIndex: 65 entries, 0 to 64\n",
            "Data columns (total 5 columns):\n",
            " #   Column     Non-Null Count  Dtype         \n",
            "---  ------     --------------  -----         \n",
            " 0   FK_LOJA    65 non-null     object        \n",
            " 1   LOJA       65 non-null     object        \n",
            " 2   DATA_INI   65 non-null     datetime64[ns]\n",
            " 3   DATA_FIM   65 non-null     datetime64[ns]\n",
            " 4   DESCRICAO  65 non-null     object        \n",
            "dtypes: datetime64[ns](2), object(3)\n",
            "memory usage: 2.7+ KB\n",
            "\n",
            "==================================================\n",
            "\n",
            "Dados_Vendas:\n",
            "<class 'pandas.core.frame.DataFrame'>\n",
            "RangeIndex: 98628 entries, 0 to 98627\n",
            "Data columns (total 9 columns):\n",
            " #   Column       Non-Null Count  Dtype         \n",
            "---  ------       --------------  -----         \n",
            " 0   FK_SECAO     98628 non-null  int64         \n",
            " 1   LOJA         98628 non-null  object        \n",
            " 2   DATA         98628 non-null  datetime64[ns]\n",
            " 3   ITENS        98628 non-null  int64         \n",
            " 4   VALOR        98628 non-null  float64       \n",
            " 5   SKUS_+       98628 non-null  int64         \n",
            " 6   SKUS_-       98628 non-null  int64         \n",
            " 7   VAR_PREÇO_+  98628 non-null  float64       \n",
            " 8   VAR_PREÇO_-  98628 non-null  float64       \n",
            "dtypes: datetime64[ns](1), float64(3), int64(4), object(1)\n",
            "memory usage: 6.8+ MB\n",
            "\n",
            "==================================================\n",
            "\n"
          ]
        }
      ]
    },
    {
      "cell_type": "markdown",
      "source": [
        "# Add Column \"FK_LOJA\" to dados_vendas dataset"
      ],
      "metadata": {
        "id": "Y5B9I2Moi91P"
      }
    },
    {
      "cell_type": "code",
      "source": [
        "# Merge the two DataFrames 'dados_vendas' and 'info_loja' based on the column 'LOJA'\n",
        "dados_vendas = pd.merge(dados_vendas, info_loja[['LOJA', 'FK_LOJA']], how='left', on='LOJA')\n",
        "\n",
        "# Print the resulting DataFrame\n",
        "print(dados_vendas)\n"
      ],
      "metadata": {
        "colab": {
          "base_uri": "https://localhost:8080/"
        },
        "id": "fbU7G-31h287",
        "outputId": "e359ce63-a403-4ad3-afb7-52749fbbe592"
      },
      "execution_count": null,
      "outputs": [
        {
          "output_type": "stream",
          "name": "stdout",
          "text": [
            "       FK_SECAO             LOJA       DATA  ITENS          VALOR  SKUS_+  \\\n",
            "0           522            Viseu 2020-01-05  33814  109862.214392     891   \n",
            "1           522            Viseu 2020-01-09  22926   63819.583059    1655   \n",
            "2           522            Viseu 2020-01-24  26055   72578.031031     894   \n",
            "3           522            Viseu 2020-01-27  23556   60853.098660    1066   \n",
            "4           522            Viseu 2020-01-30  21653   61461.643038    1296   \n",
            "...         ...              ...        ...    ...            ...     ...   \n",
            "98623      1581  S - Bento Jesus 2023-09-24   2525    4896.189803     457   \n",
            "98624      1581  S - Bento Jesus 2023-09-28   2640    5069.048592     519   \n",
            "98625      1581  S - Bento Jesus 2023-10-16   2473    4568.633783     644   \n",
            "98626      1581  S - Bento Jesus 2023-10-17   2251    4641.189890     169   \n",
            "98627      1581  S - Bento Jesus 2023-10-25   2324    4485.222868     420   \n",
            "\n",
            "       SKUS_-  VAR_PREÇO_+  VAR_PREÇO_- FK_LOJA  \n",
            "0        1581     0.138385     0.127587  POR010  \n",
            "1        1200     0.106688     0.149941  POR010  \n",
            "2        1000     0.129946     0.123635  POR010  \n",
            "3        1121     0.180477     0.198495  POR010  \n",
            "4        1139     0.162686     0.181002  POR010  \n",
            "...       ...          ...          ...     ...  \n",
            "98623     433     0.114492     0.108196  POR446  \n",
            "98624     687     0.137739     0.166100  POR446  \n",
            "98625     592     0.161688     0.106815  POR446  \n",
            "98626    1662     0.013157     0.319095  POR446  \n",
            "98627     350     0.142228     0.122659  POR446  \n",
            "\n",
            "[98628 rows x 10 columns]\n"
          ]
        }
      ]
    },
    {
      "cell_type": "markdown",
      "source": [
        "# Check for Null Values"
      ],
      "metadata": {
        "id": "h1_vmIRxjHgs"
      }
    },
    {
      "cell_type": "code",
      "source": [
        "# Check for null values in 'info_loja'\n",
        "null_values_info_loja = info_loja.isnull().sum()\n",
        "\n",
        "# Check for null values in 'feriados'\n",
        "null_values_feriados = feriados.isnull().sum()\n",
        "\n",
        "# Check for null values in 'eventos'\n",
        "null_values_eventos = eventos.isnull().sum()\n",
        "\n",
        "# Check for null values in 'dados_vendas'\n",
        "null_values_dados_vendas = dados_vendas.isnull().sum()\n",
        "\n",
        "# Print the results\n",
        "print(\"Null Values in 'INFO LOJA':\\n\", null_values_info_loja)\n",
        "print(\"\\nNull Values in 'FERIADOS':\\n\", null_values_feriados)\n",
        "print(\"\\nNull Values in 'EVENTOS':\\n\", null_values_eventos)\n",
        "print(\"\\nNull Values in 'DADOS VENDAS':\\n\", null_values_dados_vendas)\n",
        "\n"
      ],
      "metadata": {
        "colab": {
          "base_uri": "https://localhost:8080/"
        },
        "id": "eUt3RwyWgD5J",
        "outputId": "0b2c265f-bade-437f-a1d9-d09c172c49f5"
      },
      "execution_count": null,
      "outputs": [
        {
          "output_type": "stream",
          "name": "stdout",
          "text": [
            "Null Values in 'INFO LOJA':\n",
            " FK_LOJA                0\n",
            "LOJA                   0\n",
            "FK_CIDADE              0\n",
            "CIDADE                 0\n",
            "FK_REGIAO              0\n",
            "REGIAO                 0\n",
            "FK_SECAO               0\n",
            "SECAO                  0\n",
            "PRODUTIVIDADE/HORA     0\n",
            "N_COLABORADORES        0\n",
            "SKUS                   0\n",
            "ABERTURA               0\n",
            "FECHO                  0\n",
            "CAIXAS TRADICIONAIS    0\n",
            "SELF CHECKOUTS         0\n",
            "dtype: int64\n",
            "\n",
            "Null Values in 'FERIADOS':\n",
            " FK_LOJA          0\n",
            "LOJA            27\n",
            "DATA             0\n",
            "DESCRICAO        0\n",
            "FERIADO_FIXO     0\n",
            "TIPO             0\n",
            "dtype: int64\n",
            "\n",
            "Null Values in 'EVENTOS':\n",
            " FK_LOJA      0\n",
            "LOJA         0\n",
            "DATA_INI     0\n",
            "DATA_FIM     0\n",
            "DESCRICAO    0\n",
            "dtype: int64\n",
            "\n",
            "Null Values in 'DADOS VENDAS':\n",
            " FK_SECAO       0\n",
            "LOJA           0\n",
            "DATA           0\n",
            "ITENS          0\n",
            "VALOR          0\n",
            "SKUS_+         0\n",
            "SKUS_-         0\n",
            "VAR_PREÇO_+    0\n",
            "VAR_PREÇO_-    0\n",
            "FK_LOJA        0\n",
            "dtype: int64\n"
          ]
        }
      ]
    },
    {
      "cell_type": "markdown",
      "source": [
        "Drop nos valores nulos de Feriados"
      ],
      "metadata": {
        "id": "7Y1k3heDvfep"
      }
    },
    {
      "cell_type": "code",
      "source": [
        "# Remove rows containing null values in the 'FERIADOS' column\n",
        "feriados.dropna(subset=['LOJA'], inplace=True)\n",
        "\n",
        "# Print the resulting DataFrame information\n",
        "feriados.info()"
      ],
      "metadata": {
        "colab": {
          "base_uri": "https://localhost:8080/"
        },
        "id": "d0Wkfq5Tvj4p",
        "outputId": "9f5d8f47-39cf-45c8-e527-dd4f9212cd3b"
      },
      "execution_count": null,
      "outputs": [
        {
          "output_type": "stream",
          "name": "stdout",
          "text": [
            "<class 'pandas.core.frame.DataFrame'>\n",
            "Int64Index: 2244 entries, 0 to 2269\n",
            "Data columns (total 6 columns):\n",
            " #   Column        Non-Null Count  Dtype         \n",
            "---  ------        --------------  -----         \n",
            " 0   FK_LOJA       2244 non-null   object        \n",
            " 1   LOJA          2244 non-null   object        \n",
            " 2   DATA          2244 non-null   datetime64[ns]\n",
            " 3   DESCRICAO     2244 non-null   object        \n",
            " 4   FERIADO_FIXO  2244 non-null   object        \n",
            " 5   TIPO          2244 non-null   object        \n",
            "dtypes: datetime64[ns](1), object(5)\n",
            "memory usage: 122.7+ KB\n"
          ]
        }
      ]
    },
    {
      "cell_type": "markdown",
      "source": [
        "# Check for Outliers"
      ],
      "metadata": {
        "id": "Jg_xBlvdwOFV"
      }
    },
    {
      "cell_type": "code",
      "source": [
        "import pandas as pd\n",
        "import matplotlib.pyplot as plt\n",
        "\n",
        "# Check for outliers in 'info_loja'\n",
        "info_loja_descriptive_stats = info_loja.describe()\n",
        "print(\"Descriptive Statistics for 'INFO LOJA':\\n\", info_loja_descriptive_stats)\n",
        "\n",
        "# Check for outliers in 'feriados'\n",
        "feriados_descriptive_stats = feriados.describe()\n",
        "print(\"Descriptive Statistics for 'FERIADOS':\\n\", feriados_descriptive_stats)\n",
        "\n",
        "# Check for outliers in 'eventos'\n",
        "eventos_descriptive_stats = eventos.describe()\n",
        "print(\"Descriptive Statistics for 'EVENTOS':\\n\", eventos_descriptive_stats)\n",
        "\n",
        "# Check for outliers in 'dados_vendas'\n",
        "dados_vendas_descriptive_stats = dados_vendas.describe()\n",
        "print(\"Descriptive Statistics for 'DADOS VENDAS':\\n\", dados_vendas_descriptive_stats)\n"
      ],
      "metadata": {
        "colab": {
          "base_uri": "https://localhost:8080/"
        },
        "id": "uDwCB3VDvogt",
        "outputId": "779bfe6f-302e-4ae0-e645-e39e5058c6ee"
      },
      "execution_count": null,
      "outputs": [
        {
          "output_type": "stream",
          "name": "stdout",
          "text": [
            "Descriptive Statistics for 'INFO LOJA':\n",
            "         FK_CIDADE  FK_REGIAO     FK_SECAO  PRODUTIVIDADE/HORA  \\\n",
            "count   70.000000  70.000000    70.000000           70.000000   \n",
            "mean   188.171429  11.442857   761.771429          195.414286   \n",
            "std     58.551345   5.207675   390.992019           96.103732   \n",
            "min      1.000000   1.000000    24.000000            0.000000   \n",
            "25%    164.000000  11.000000   434.750000          132.250000   \n",
            "50%    218.500000  14.000000   905.500000          177.000000   \n",
            "75%    235.000000  14.000000   943.750000          230.500000   \n",
            "max    244.000000  18.000000  1581.000000          461.000000   \n",
            "\n",
            "       N_COLABORADORES          SKUS  CAIXAS TRADICIONAIS  SELF CHECKOUTS  \n",
            "count        70.000000     70.000000            70.000000       70.000000  \n",
            "mean         25.414286  11030.942857            14.928571        3.128571  \n",
            "std          19.908117  13517.317611             6.804349        5.250042  \n",
            "min           7.000000   2523.000000             3.000000        0.000000  \n",
            "25%          13.000000   2977.250000            12.250000        0.000000  \n",
            "50%          15.000000   3338.000000            15.000000        0.000000  \n",
            "75%          30.750000  13769.250000            17.000000        4.000000  \n",
            "max         100.000000  48810.000000            50.000000       26.000000  \n",
            "Descriptive Statistics for 'FERIADOS':\n",
            "        FK_LOJA   LOJA                 DATA        DESCRICAO FERIADO_FIXO  \\\n",
            "count     2244   2244                 2244             2244         2244   \n",
            "unique      70     70                  139               69            2   \n",
            "top     POR010  Viseu  2022-01-01 00:00:00  Dia de Ano Novo            S   \n",
            "freq        51     51                   81              304         1423   \n",
            "first      NaN    NaN  2020-01-01 00:00:00              NaN          NaN   \n",
            "last       NaN    NaN  2024-12-25 00:00:00              NaN          NaN   \n",
            "\n",
            "          TIPO  \n",
            "count     2244  \n",
            "unique       2  \n",
            "top     ABERTO  \n",
            "freq      2125  \n",
            "first      NaN  \n",
            "last       NaN  \n",
            "Descriptive Statistics for 'EVENTOS':\n",
            "        FK_LOJA           LOJA             DATA_INI             DATA_FIM  \\\n",
            "count       65             65                   65                   65   \n",
            "unique      10             10                   28                   29   \n",
            "top     POR013  Torres Vedras  2023-05-16 00:00:00  2023-05-15 00:00:00   \n",
            "freq        24             24                    7                    6   \n",
            "first      NaN            NaN  2022-10-21 00:00:00  2022-10-21 00:00:00   \n",
            "last       NaN            NaN  2023-05-22 00:00:00  2023-05-31 00:00:00   \n",
            "\n",
            "            DESCRICAO  \n",
            "count              65  \n",
            "unique             47  \n",
            "top     Véspera Natal  \n",
            "freq                5  \n",
            "first             NaN  \n",
            "last              NaN  \n",
            "Descriptive Statistics for 'DADOS VENDAS':\n",
            "            FK_SECAO          ITENS         VALOR        SKUS_+        SKUS_-  \\\n",
            "count  98628.000000   98628.000000  9.862800e+04  98628.000000  98628.000000   \n",
            "mean     732.328446   15181.064018  4.500102e+04   1533.023502   2088.222898   \n",
            "std      398.779191   18478.658940  6.221116e+04   2012.949193   3032.643410   \n",
            "min       24.000000       2.000000  3.228922e+00     26.000000    253.000000   \n",
            "25%      365.000000    2647.000000  4.738108e+03    390.000000    446.000000   \n",
            "50%      902.000000    4358.000000  8.349734e+03    542.000000    801.000000   \n",
            "75%      942.000000   24354.250000  7.301397e+04   1695.000000   2247.000000   \n",
            "max     1581.000000  189091.000000  2.134898e+06   9761.000000  24363.000000   \n",
            "\n",
            "        VAR_PREÇO_+   VAR_PREÇO_-  \n",
            "count  98628.000000  98628.000000  \n",
            "mean       0.136458      0.185598  \n",
            "std        0.043651      0.094020  \n",
            "min        0.010007      0.100003  \n",
            "25%        0.112615      0.128966  \n",
            "50%        0.141486      0.158273  \n",
            "75%        0.170561      0.187435  \n",
            "max        0.199999      0.499994  \n"
          ]
        },
        {
          "output_type": "stream",
          "name": "stderr",
          "text": [
            "<ipython-input-7-33a6757723a8>:9: FutureWarning: Treating datetime data as categorical rather than numeric in `.describe` is deprecated and will be removed in a future version of pandas. Specify `datetime_is_numeric=True` to silence this warning and adopt the future behavior now.\n",
            "  feriados_descriptive_stats = feriados.describe()\n",
            "<ipython-input-7-33a6757723a8>:13: FutureWarning: Treating datetime data as categorical rather than numeric in `.describe` is deprecated and will be removed in a future version of pandas. Specify `datetime_is_numeric=True` to silence this warning and adopt the future behavior now.\n",
            "  eventos_descriptive_stats = eventos.describe()\n",
            "<ipython-input-7-33a6757723a8>:13: FutureWarning: Treating datetime data as categorical rather than numeric in `.describe` is deprecated and will be removed in a future version of pandas. Specify `datetime_is_numeric=True` to silence this warning and adopt the future behavior now.\n",
            "  eventos_descriptive_stats = eventos.describe()\n"
          ]
        }
      ]
    },
    {
      "cell_type": "code",
      "source": [
        "import seaborn as sns\n",
        "import matplotlib.pyplot as plt\n",
        "\n",
        "sns.set(style=\"whitegrid\")\n",
        "\n",
        "# Select columns for the boxplots\n",
        "selected_columns = ['PRODUTIVIDADE/HORA', 'N_COLABORADORES', 'SKUS', 'CAIXAS TRADICIONAIS', 'SELF CHECKOUTS']\n",
        "\n",
        "# Create side-by-side subplots in vertical orientation\n",
        "fig, axes = plt.subplots(nrows=1, ncols=len(selected_columns), figsize=(18, 6))\n",
        "\n",
        "# Iterate over selected columns and create boxplots\n",
        "for i, column in enumerate(selected_columns):\n",
        "    sns.boxplot(ax=axes[i], y=info_loja[column])  # Use y for vertical orientation\n",
        "    axes[i].set_title(f'Boxplot of {column}', fontsize=14)\n",
        "    axes[i].set_xlabel(column, fontsize=12)\n",
        "\n",
        "# Adjust layout\n",
        "plt.tight_layout()\n",
        "\n",
        "# Show subplots\n",
        "plt.show()\n",
        "\n",
        "\n"
      ],
      "metadata": {
        "colab": {
          "base_uri": "https://localhost:8080/",
          "height": 393
        },
        "id": "FWliGxGQwPkE",
        "outputId": "61b3ccd9-02ce-4751-c80e-f4b9b0faa2c0"
      },
      "execution_count": null,
      "outputs": [
        {
          "output_type": "display_data",
          "data": {
            "text/plain": [
              "<Figure size 1800x600 with 5 Axes>"
            ],
            "image/png": "[encoded data removed]"
          },
          "metadata": {}
        }
      ]
    },
    {
      "cell_type": "markdown",
      "source": [
        "Temos de remover valores zero ?? colocar media"
      ],
      "metadata": {
        "id": "U0ClnvBkwxmn"
      }
    },
    {
      "cell_type": "code",
      "source": [
        "import pandas as pd\n",
        "\n",
        "# Group dados_vendas by store and calculate the mean of ITEM\n",
        "mean_per_store = dados_vendas.groupby('FK_LOJA')['ITENS'].mean().reset_index()\n",
        "mean_per_store.rename(columns={'ITENS': 'MEDIA_ITEM'}, inplace=True)\n",
        "\n",
        "# Merge the mean ITEM back to the info_loja DataFrame\n",
        "info_loja_2 = pd.merge(info_loja, mean_per_store, on='FK_LOJA', how='left')\n",
        "\n",
        "# Display the resulting DataFrame\n",
        "print(info_loja_2)\n",
        "\n"
      ],
      "metadata": {
        "colab": {
          "base_uri": "https://localhost:8080/"
        },
        "id": "ynFUA1MLGIpp",
        "outputId": "f1fb1956-0942-4e2c-93b2-565afa66e44c"
      },
      "execution_count": null,
      "outputs": [
        {
          "output_type": "stream",
          "name": "stdout",
          "text": [
            "   FK_LOJA                       LOJA  FK_CIDADE               CIDADE  \\\n",
            "0   POR025                  Alfragide        228            Alfragide   \n",
            "1   POR012               Almada Fórum        164               Almada   \n",
            "2   POR029                    Alverca        227              Alverca   \n",
            "3   POR032                     Aveiro        111               Aveiro   \n",
            "4   POR052           Caldas da Rainha        171     Caldas da Rainha   \n",
            "..     ...                        ...        ...                  ...   \n",
            "65  POR438  S - Rua Visconde Santarém        235               Lisboa   \n",
            "66   U0141    S - Vila Franca de Xira        244  Vila Franca de Xira   \n",
            "67  POR039              Vila do Conde         97        Vila do Conde   \n",
            "68  POR036                  Vila Real        100            Vila Real   \n",
            "69  POR010                      Viseu        237                Viseu   \n",
            "\n",
            "    FK_REGIAO          REGIAO  FK_SECAO           SECAO  PRODUTIVIDADE/HORA  \\\n",
            "0          14  Lisboa Central       976  Frente de Loja                 269   \n",
            "1           3      Margem Sul        24  Frente de Loja                 400   \n",
            "2          17    Lisboa Norte      1072  Frente de Loja                 335   \n",
            "3          13   Beira Litoral       321  Frente de loja                 227   \n",
            "4          17    Lisboa Norte      1125  Frente de Loja                 136   \n",
            "..        ...             ...       ...             ...                 ...   \n",
            "65         14  Lisboa Central      1167  Frente de Loja                  94   \n",
            "66         17    Lisboa Norte      1443  Frente de Loja                   0   \n",
            "67          1    Região Norte      1536  Frente de Loja                 229   \n",
            "68          1    Região Norte       606  Frente de Loja                 234   \n",
            "69         11  Beira Interior       522  Frente de Loja                 195   \n",
            "\n",
            "    N_COLABORADORES   SKUS            ABERTURA               FECHO  \\\n",
            "0                85  35052 2000-01-01 08:00:00 2000-01-01 21:00:00   \n",
            "1               100  46951 2000-01-01 08:30:00 2000-01-01 23:00:00   \n",
            "2                48  17367 2000-01-01 08:00:00 2000-01-01 21:00:00   \n",
            "3                60  36896 2000-01-01 08:00:00 2000-01-01 23:30:00   \n",
            "4                 7   2760 2000-01-01 07:00:00 2000-01-01 20:00:00   \n",
            "..              ...    ...                 ...                 ...   \n",
            "65               12   2523 2000-01-01 09:00:00 2000-01-01 21:00:00   \n",
            "66               11   2912 2000-01-01 10:00:00 2000-01-01 20:00:00   \n",
            "67               40  15860 2000-01-01 09:00:00 2000-01-01 20:00:00   \n",
            "68               19   8465 2000-01-01 07:00:00 2000-01-01 20:00:00   \n",
            "69               30   8879 2000-01-01 08:00:00 2000-01-01 23:00:00   \n",
            "\n",
            "    CAIXAS TRADICIONAIS  SELF CHECKOUTS    MEDIA_ITEM  \n",
            "0                    26               8  62163.604803  \n",
            "1                    26               6  82574.966170  \n",
            "2                    50              26  38572.211329  \n",
            "3                    14               5  40757.303052  \n",
            "4                     4               4   5767.453952  \n",
            "..                  ...             ...           ...  \n",
            "65                   15               0   1943.760286  \n",
            "66                   17               0   2185.620559  \n",
            "67                   10               4  29337.407436  \n",
            "68                    7               3  20217.678052  \n",
            "69                   13               3  27371.549347  \n",
            "\n",
            "[70 rows x 16 columns]\n"
          ]
        }
      ]
    },
    {
      "cell_type": "code",
      "source": [
        "import pandas as pd\n",
        "\n",
        "# Add the new column 'FECHO_ABERTURA' in hours (assuming 'FECHO' and 'ABERTURA' are in hour format)\n",
        "info_loja_2['FECHO_ABERTURA'] = (info_loja_2['FECHO'] - info_loja_2['ABERTURA']).dt.total_seconds() / 3600\n",
        "\n",
        "# Display the resulting DataFrame\n",
        "print(info_loja_2)\n"
      ],
      "metadata": {
        "colab": {
          "base_uri": "https://localhost:8080/"
        },
        "id": "Raiymo8wIqSm",
        "outputId": "76d5ebfe-5fd4-40b3-8142-82d25053fb77"
      },
      "execution_count": null,
      "outputs": [
        {
          "output_type": "stream",
          "name": "stdout",
          "text": [
            "   FK_LOJA                       LOJA  FK_CIDADE               CIDADE  \\\n",
            "0   POR025                  Alfragide        228            Alfragide   \n",
            "1   POR012               Almada Fórum        164               Almada   \n",
            "2   POR029                    Alverca        227              Alverca   \n",
            "3   POR032                     Aveiro        111               Aveiro   \n",
            "4   POR052           Caldas da Rainha        171     Caldas da Rainha   \n",
            "..     ...                        ...        ...                  ...   \n",
            "65  POR438  S - Rua Visconde Santarém        235               Lisboa   \n",
            "66   U0141    S - Vila Franca de Xira        244  Vila Franca de Xira   \n",
            "67  POR039              Vila do Conde         97        Vila do Conde   \n",
            "68  POR036                  Vila Real        100            Vila Real   \n",
            "69  POR010                      Viseu        237                Viseu   \n",
            "\n",
            "    FK_REGIAO          REGIAO  FK_SECAO           SECAO  PRODUTIVIDADE/HORA  \\\n",
            "0          14  Lisboa Central       976  Frente de Loja                 269   \n",
            "1           3      Margem Sul        24  Frente de Loja                 400   \n",
            "2          17    Lisboa Norte      1072  Frente de Loja                 335   \n",
            "3          13   Beira Litoral       321  Frente de loja                 227   \n",
            "4          17    Lisboa Norte      1125  Frente de Loja                 136   \n",
            "..        ...             ...       ...             ...                 ...   \n",
            "65         14  Lisboa Central      1167  Frente de Loja                  94   \n",
            "66         17    Lisboa Norte      1443  Frente de Loja                   0   \n",
            "67          1    Região Norte      1536  Frente de Loja                 229   \n",
            "68          1    Região Norte       606  Frente de Loja                 234   \n",
            "69         11  Beira Interior       522  Frente de Loja                 195   \n",
            "\n",
            "    N_COLABORADORES   SKUS            ABERTURA               FECHO  \\\n",
            "0                85  35052 2000-01-01 08:00:00 2000-01-01 21:00:00   \n",
            "1               100  46951 2000-01-01 08:30:00 2000-01-01 23:00:00   \n",
            "2                48  17367 2000-01-01 08:00:00 2000-01-01 21:00:00   \n",
            "3                60  36896 2000-01-01 08:00:00 2000-01-01 23:30:00   \n",
            "4                 7   2760 2000-01-01 07:00:00 2000-01-01 20:00:00   \n",
            "..              ...    ...                 ...                 ...   \n",
            "65               12   2523 2000-01-01 09:00:00 2000-01-01 21:00:00   \n",
            "66               11   2912 2000-01-01 10:00:00 2000-01-01 20:00:00   \n",
            "67               40  15860 2000-01-01 09:00:00 2000-01-01 20:00:00   \n",
            "68               19   8465 2000-01-01 07:00:00 2000-01-01 20:00:00   \n",
            "69               30   8879 2000-01-01 08:00:00 2000-01-01 23:00:00   \n",
            "\n",
            "    CAIXAS TRADICIONAIS  SELF CHECKOUTS    MEDIA_ITEM  FECHO_ABERTURA  \n",
            "0                    26               8  62163.604803            13.0  \n",
            "1                    26               6  82574.966170            14.5  \n",
            "2                    50              26  38572.211329            13.0  \n",
            "3                    14               5  40757.303052            15.5  \n",
            "4                     4               4   5767.453952            13.0  \n",
            "..                  ...             ...           ...             ...  \n",
            "65                   15               0   1943.760286            12.0  \n",
            "66                   17               0   2185.620559            10.0  \n",
            "67                   10               4  29337.407436            11.0  \n",
            "68                    7               3  20217.678052            13.0  \n",
            "69                   13               3  27371.549347            15.0  \n",
            "\n",
            "[70 rows x 17 columns]\n"
          ]
        }
      ]
    },
    {
      "cell_type": "code",
      "source": [
        "import pandas as pd\n",
        "\n",
        "# Assuming you have a DataFrame 'info_loja_2' and you want to filter out stores with zero productivity\n",
        "zero_productivity_stores = info_loja_2[info_loja_2['PRODUTIVIDADE/HORA'] == 0]['LOJA']\n",
        "\n",
        "# Then you can proceed with your code\n",
        "zero_prod_stores_features = info_loja_2[info_loja_2['LOJA'].isin(zero_productivity_stores)][['LOJA', 'N_COLABORADORES', 'ABERTURA', 'FECHO', 'CAIXAS TRADICIONAIS', 'SKUS']]\n",
        "zero_prod_stores_features['HORAS_TRABALHADAS'] = (pd.to_datetime(zero_prod_stores_features['FECHO']) - pd.to_datetime(zero_prod_stores_features['ABERTURA'])).dt.seconds / 3600\n",
        "zero_prod_stores_features = zero_prod_stores_features[['LOJA', 'N_COLABORADORES', 'HORAS_TRABALHADAS', 'CAIXAS TRADICIONAIS', 'SKUS']]\n",
        "zero_prod_stores_features"
      ],
      "metadata": {
        "colab": {
          "base_uri": "https://localhost:8080/",
          "height": 143
        },
        "id": "P1q3r_ixLsHg",
        "outputId": "a3e891ee-01be-4991-ebf2-e2033ba83139"
      },
      "execution_count": null,
      "outputs": [
        {
          "output_type": "execute_result",
          "data": {
            "text/plain": [
              "                       LOJA  N_COLABORADORES  HORAS_TRABALHADAS  \\\n",
              "30                S - Ajuda               16               14.0   \n",
              "42             S - Cacilhas               13               12.0   \n",
              "66  S - Vila Franca de Xira               11               10.0   \n",
              "\n",
              "    CAIXAS TRADICIONAIS  SKUS  \n",
              "30                   17  3235  \n",
              "42                   15  3172  \n",
              "66                   17  2912  "
            ],
            "text/html": [
              "\n",
              "  <div id=\"df-39c2fb5c-1166-454c-a719-2a62ca6926e5\" class=\"colab-df-container\">\n",
              "    <div>\n",
              "<style scoped>\n",
              "    .dataframe tbody tr th:only-of-type {\n",
              "        vertical-align: middle;\n",
              "    }\n",
              "\n",
              "    .dataframe tbody tr th {\n",
              "        vertical-align: top;\n",
              "    }\n",
              "\n",
              "    .dataframe thead th {\n",
              "        text-align: right;\n",
              "    }\n",
              "</style>\n",
              "<table border=\"1\" class=\"dataframe\">\n",
              "  <thead>\n",
              "    <tr style=\"text-align: right;\">\n",
              "      <th></th>\n",
              "      <th>LOJA</th>\n",
              "      <th>N_COLABORADORES</th>\n",
              "      <th>HORAS_TRABALHADAS</th>\n",
              "      <th>CAIXAS TRADICIONAIS</th>\n",
              "      <th>SKUS</th>\n",
              "    </tr>\n",
              "  </thead>\n",
              "  <tbody>\n",
              "    <tr>\n",
              "      <th>30</th>\n",
              "      <td>S - Ajuda</td>\n",
              "      <td>16</td>\n",
              "      <td>14.0</td>\n",
              "      <td>17</td>\n",
              "      <td>3235</td>\n",
              "    </tr>\n",
              "    <tr>\n",
              "      <th>42</th>\n",
              "      <td>S - Cacilhas</td>\n",
              "      <td>13</td>\n",
              "      <td>12.0</td>\n",
              "      <td>15</td>\n",
              "      <td>3172</td>\n",
              "    </tr>\n",
              "    <tr>\n",
              "      <th>66</th>\n",
              "      <td>S - Vila Franca de Xira</td>\n",
              "      <td>11</td>\n",
              "      <td>10.0</td>\n",
              "      <td>17</td>\n",
              "      <td>2912</td>\n",
              "    </tr>\n",
              "  </tbody>\n",
              "</table>\n",
              "</div>\n",
              "    <div class=\"colab-df-buttons\">\n",
              "\n",
              "  <div class=\"colab-df-container\">\n",
              "    <button class=\"colab-df-convert\" onclick=\"convertToInteractive('df-39c2fb5c-1166-454c-a719-2a62ca6926e5')\"\n",
              "            title=\"Convert this dataframe to an interactive table.\"\n",
              "            style=\"display:none;\">\n",
              "\n",
              "  <svg xmlns=\"http://www.w3.org/2000/svg\" height=\"24px\" viewBox=\"0 -960 960 960\">\n",
              "    <path d=\"M120-120v-720h720v720H120Zm60-500h600v-160H180v160Zm220 220h160v-160H400v160Zm0 220h160v-160H400v160ZM180-400h160v-160H180v160Zm440 0h160v-160H620v160ZM180-180h160v-160H180v160Zm440 0h160v-160H620v160Z\"/>\n",
              "  </svg>\n",
              "    </button>\n",
              "\n",
              "  <style>\n",
              "    .colab-df-container {\n",
              "      display:flex;\n",
              "      gap: 12px;\n",
              "    }\n",
              "\n",
              "    .colab-df-convert {\n",
              "      background-color: #E8F0FE;\n",
              "      border: none;\n",
              "      border-radius: 50%;\n",
              "      cursor: pointer;\n",
              "      display: none;\n",
              "      fill: #1967D2;\n",
              "      height: 32px;\n",
              "      padding: 0 0 0 0;\n",
              "      width: 32px;\n",
              "    }\n",
              "\n",
              "    .colab-df-convert:hover {\n",
              "      background-color: #E2EBFA;\n",
              "      box-shadow: 0px 1px 2px rgba(60, 64, 67, 0.3), 0px 1px 3px 1px rgba(60, 64, 67, 0.15);\n",
              "      fill: #174EA6;\n",
              "    }\n",
              "\n",
              "    .colab-df-buttons div {\n",
              "      margin-bottom: 4px;\n",
              "    }\n",
              "\n",
              "    [theme=dark] .colab-df-convert {\n",
              "      background-color: #3B4455;\n",
              "      fill: #D2E3FC;\n",
              "    }\n",
              "\n",
              "    [theme=dark] .colab-df-convert:hover {\n",
              "      background-color: #434B5C;\n",
              "      box-shadow: 0px 1px 3px 1px rgba(0, 0, 0, 0.15);\n",
              "      filter: drop-shadow(0px 1px 2px rgba(0, 0, 0, 0.3));\n",
              "      fill: #FFFFFF;\n",
              "    }\n",
              "  </style>\n",
              "\n",
              "    <script>\n",
              "      const buttonEl =\n",
              "        document.querySelector('#df-39c2fb5c-1166-454c-a719-2a62ca6926e5 button.colab-df-convert');\n",
              "      buttonEl.style.display =\n",
              "        google.colab.kernel.accessAllowed ? 'block' : 'none';\n",
              "\n",
              "      async function convertToInteractive(key) {\n",
              "        const element = document.querySelector('#df-39c2fb5c-1166-454c-a719-2a62ca6926e5');\n",
              "        const dataTable =\n",
              "          await google.colab.kernel.invokeFunction('convertToInteractive',\n",
              "                                                    [key], {});\n",
              "        if (!dataTable) return;\n",
              "\n",
              "        const docLinkHtml = 'Like what you see? Visit the ' +\n",
              "          '<a target=\"_blank\" href=https://colab.research.google.com/notebooks/data_table.ipynb>data table notebook</a>'\n",
              "          + ' to learn more about interactive tables.';\n",
              "        element.innerHTML = '';\n",
              "        dataTable['output_type'] = 'display_data';\n",
              "        await google.colab.output.renderOutput(dataTable, element);\n",
              "        const docLink = document.createElement('div');\n",
              "        docLink.innerHTML = docLinkHtml;\n",
              "        element.appendChild(docLink);\n",
              "      }\n",
              "    </script>\n",
              "  </div>\n",
              "\n",
              "\n",
              "<div id=\"df-19d618e5-a82e-48b7-bb63-ab11951a32a3\">\n",
              "  <button class=\"colab-df-quickchart\" onclick=\"quickchart('df-19d618e5-a82e-48b7-bb63-ab11951a32a3')\"\n",
              "            title=\"Suggest charts\"\n",
              "            style=\"display:none;\">\n",
              "\n",
              "<svg xmlns=\"http://www.w3.org/2000/svg\" height=\"24px\"viewBox=\"0 0 24 24\"\n",
              "     width=\"24px\">\n",
              "    <g>\n",
              "        <path d=\"M19 3H5c-1.1 0-2 .9-2 2v14c0 1.1.9 2 2 2h14c1.1 0 2-.9 2-2V5c0-1.1-.9-2-2-2zM9 17H7v-7h2v7zm4 0h-2V7h2v10zm4 0h-2v-4h2v4z\"/>\n",
              "    </g>\n",
              "</svg>\n",
              "  </button>\n",
              "\n",
              "<style>\n",
              "  .colab-df-quickchart {\n",
              "      --bg-color: #E8F0FE;\n",
              "      --fill-color: #1967D2;\n",
              "      --hover-bg-color: #E2EBFA;\n",
              "      --hover-fill-color: #174EA6;\n",
              "      --disabled-fill-color: #AAA;\n",
              "      --disabled-bg-color: #DDD;\n",
              "  }\n",
              "\n",
              "  [theme=dark] .colab-df-quickchart {\n",
              "      --bg-color: #3B4455;\n",
              "      --fill-color: #D2E3FC;\n",
              "      --hover-bg-color: #434B5C;\n",
              "      --hover-fill-color: #FFFFFF;\n",
              "      --disabled-bg-color: #3B4455;\n",
              "      --disabled-fill-color: #666;\n",
              "  }\n",
              "\n",
              "  .colab-df-quickchart {\n",
              "    background-color: var(--bg-color);\n",
              "    border: none;\n",
              "    border-radius: 50%;\n",
              "    cursor: pointer;\n",
              "    display: none;\n",
              "    fill: var(--fill-color);\n",
              "    height: 32px;\n",
              "    padding: 0;\n",
              "    width: 32px;\n",
              "  }\n",
              "\n",
              "  .colab-df-quickchart:hover {\n",
              "    background-color: var(--hover-bg-color);\n",
              "    box-shadow: 0 1px 2px rgba(60, 64, 67, 0.3), 0 1px 3px 1px rgba(60, 64, 67, 0.15);\n",
              "    fill: var(--button-hover-fill-color);\n",
              "  }\n",
              "\n",
              "  .colab-df-quickchart-complete:disabled,\n",
              "  .colab-df-quickchart-complete:disabled:hover {\n",
              "    background-color: var(--disabled-bg-color);\n",
              "    fill: var(--disabled-fill-color);\n",
              "    box-shadow: none;\n",
              "  }\n",
              "\n",
              "  .colab-df-spinner {\n",
              "    border: 2px solid var(--fill-color);\n",
              "    border-color: transparent;\n",
              "    border-bottom-color: var(--fill-color);\n",
              "    animation:\n",
              "      spin 1s steps(1) infinite;\n",
              "  }\n",
              "\n",
              "  @keyframes spin {\n",
              "    0% {\n",
              "      border-color: transparent;\n",
              "      border-bottom-color: var(--fill-color);\n",
              "      border-left-color: var(--fill-color);\n",
              "    }\n",
              "    20% {\n",
              "      border-color: transparent;\n",
              "      border-left-color: var(--fill-color);\n",
              "      border-top-color: var(--fill-color);\n",
              "    }\n",
              "    30% {\n",
              "      border-color: transparent;\n",
              "      border-left-color: var(--fill-color);\n",
              "      border-top-color: var(--fill-color);\n",
              "      border-right-color: var(--fill-color);\n",
              "    }\n",
              "    40% {\n",
              "      border-color: transparent;\n",
              "      border-right-color: var(--fill-color);\n",
              "      border-top-color: var(--fill-color);\n",
              "    }\n",
              "    60% {\n",
              "      border-color: transparent;\n",
              "      border-right-color: var(--fill-color);\n",
              "    }\n",
              "    80% {\n",
              "      border-color: transparent;\n",
              "      border-right-color: var(--fill-color);\n",
              "      border-bottom-color: var(--fill-color);\n",
              "    }\n",
              "    90% {\n",
              "      border-color: transparent;\n",
              "      border-bottom-color: var(--fill-color);\n",
              "    }\n",
              "  }\n",
              "</style>\n",
              "\n",
              "  <script>\n",
              "    async function quickchart(key) {\n",
              "      const quickchartButtonEl =\n",
              "        document.querySelector('#' + key + ' button');\n",
              "      quickchartButtonEl.disabled = true;  // To prevent multiple clicks.\n",
              "      quickchartButtonEl.classList.add('colab-df-spinner');\n",
              "      try {\n",
              "        const charts = await google.colab.kernel.invokeFunction(\n",
              "            'suggestCharts', [key], {});\n",
              "      } catch (error) {\n",
              "        console.error('Error during call to suggestCharts:', error);\n",
              "      }\n",
              "      quickchartButtonEl.classList.remove('colab-df-spinner');\n",
              "      quickchartButtonEl.classList.add('colab-df-quickchart-complete');\n",
              "    }\n",
              "    (() => {\n",
              "      let quickchartButtonEl =\n",
              "        document.querySelector('#df-19d618e5-a82e-48b7-bb63-ab11951a32a3 button');\n",
              "      quickchartButtonEl.style.display =\n",
              "        google.colab.kernel.accessAllowed ? 'block' : 'none';\n",
              "    })();\n",
              "  </script>\n",
              "</div>\n",
              "    </div>\n",
              "  </div>\n"
            ],
            "application/vnd.google.colaboratory.intrinsic+json": {
              "type": "dataframe",
              "variable_name": "zero_prod_stores_features",
              "summary": "{\n  \"name\": \"zero_prod_stores_features\",\n  \"rows\": 3,\n  \"fields\": [\n    {\n      \"column\": \"LOJA\",\n      \"properties\": {\n        \"dtype\": \"string\",\n        \"samples\": [\n          \"S - Ajuda\",\n          \"S - Cacilhas\",\n          \"S - Vila Franca de Xira\"\n        ],\n        \"num_unique_values\": 3,\n        \"semantic_type\": \"\",\n        \"description\": \"\"\n      }\n    },\n    {\n      \"column\": \"N_COLABORADORES\",\n      \"properties\": {\n        \"dtype\": \"number\",\n        \"std\": 2,\n        \"min\": 11,\n        \"max\": 16,\n        \"samples\": [\n          16,\n          13,\n          11\n        ],\n        \"num_unique_values\": 3,\n        \"semantic_type\": \"\",\n        \"description\": \"\"\n      }\n    },\n    {\n      \"column\": \"HORAS_TRABALHADAS\",\n      \"properties\": {\n        \"dtype\": \"number\",\n        \"std\": 2.0,\n        \"min\": 10.0,\n        \"max\": 14.0,\n        \"samples\": [\n          14.0,\n          12.0,\n          10.0\n        ],\n        \"num_unique_values\": 3,\n        \"semantic_type\": \"\",\n        \"description\": \"\"\n      }\n    },\n    {\n      \"column\": \"CAIXAS TRADICIONAIS\",\n      \"properties\": {\n        \"dtype\": \"number\",\n        \"std\": 1,\n        \"min\": 15,\n        \"max\": 17,\n        \"samples\": [\n          15,\n          17\n        ],\n        \"num_unique_values\": 2,\n        \"semantic_type\": \"\",\n        \"description\": \"\"\n      }\n    },\n    {\n      \"column\": \"SKUS\",\n      \"properties\": {\n        \"dtype\": \"number\",\n        \"std\": 171,\n        \"min\": 2912,\n        \"max\": 3235,\n        \"samples\": [\n          3235,\n          3172\n        ],\n        \"num_unique_values\": 3,\n        \"semantic_type\": \"\",\n        \"description\": \"\"\n      }\n    }\n  ]\n}"
            }
          },
          "metadata": {},
          "execution_count": 11
        }
      ]
    },
    {
      "cell_type": "code",
      "source": [
        "# Defining a tolerance threshold for the characteristics\n",
        "tolerance = {\n",
        "    'N_COLABORADORES': 2,  # Tolerance for the number of collaborators\n",
        "    'CAIXAS TRADICIONAIS': 2,  # Tolerance for the number of traditional checkout counters\n",
        "    'SKUS': 300  # Tolerance for the number of SKUs\n",
        "}\n",
        "\n",
        "# Function to find stores with similar characteristics\n",
        "def find_similar_stores(store_features, tolerance):\n",
        "    # Filter stores with productivity > 0\n",
        "    potential_matches = info_loja_2[info_loja_2['PRODUTIVIDADE/HORA'] > 0]\n",
        "    for column, tol in tolerance.items():\n",
        "        min_val = store_features[column] - tol\n",
        "        max_val = store_features[column] + tol\n",
        "        potential_matches = potential_matches[(potential_matches[column] >= min_val) & (potential_matches[column] <= max_val)]\n",
        "    return potential_matches\n",
        "\n",
        "# Dictionary to store the calculated averages\n",
        "updated_prod_values = {}\n",
        "\n",
        "# Loop through stores with productivity = 0 to find averages of similar stores\n",
        "for index, row in zero_prod_stores_features.iterrows():\n",
        "    similar_stores = find_similar_stores(row, tolerance)\n",
        "    if not similar_stores.empty:\n",
        "        avg_prod = similar_stores['PRODUTIVIDADE/HORA'].mean()\n",
        "        updated_prod_values[row['LOJA']] = avg_prod\n",
        "\n",
        "updated_prod_values\n"
      ],
      "metadata": {
        "colab": {
          "base_uri": "https://localhost:8080/"
        },
        "id": "tQnVeypgVsm0",
        "outputId": "a48710b5-1278-4f76-b70a-4dd6325ffcb6"
      },
      "execution_count": null,
      "outputs": [
        {
          "output_type": "execute_result",
          "data": {
            "text/plain": [
              "{'S - Ajuda': 164.71428571428572,\n",
              " 'S - Cacilhas': 153.25,\n",
              " 'S - Vila Franca de Xira': 128.0}"
            ]
          },
          "metadata": {},
          "execution_count": 12
        }
      ]
    },
    {
      "cell_type": "code",
      "source": [
        "# Replace the values in the 'PRODUTIVIDADE/HORA' column of info_loja_2 with the calculated averages\n",
        "info_loja_2.loc[info_loja_2['PRODUTIVIDADE/HORA'] == 0, 'PRODUTIVIDADE/HORA'] = info_loja_2.loc[info_loja_2['PRODUTIVIDADE/HORA'] == 0, 'LOJA'].map(updated_prod_values)"
      ],
      "metadata": {
        "id": "lktOcF-GWemQ"
      },
      "execution_count": null,
      "outputs": []
    },
    {
      "cell_type": "code",
      "source": [
        "# Assuming 'info_loja_2' is the DataFrame containing the information\n",
        "# Make sure the DataFrame is filled with the desired data.\n",
        "\n",
        "# Check the value of PRODUTIVIDADE/HORA for the store with FK_LOJA equal to 'U0143'\n",
        "productivity_value_u0143 = info_loja_2.loc[info_loja_2['FK_LOJA'] == 'U0143', 'PRODUTIVIDADE/HORA'].values[0]\n",
        "\n",
        "# Display the value\n",
        "print(f\"PRODUTIVIDADE/HORA for store U0143: {productivity_value_u0143}\")\n",
        "\n"
      ],
      "metadata": {
        "colab": {
          "base_uri": "https://localhost:8080/"
        },
        "id": "JBiAu82TKJG5",
        "outputId": "e399552b-1134-4650-a6f5-116f40b821f7"
      },
      "execution_count": null,
      "outputs": [
        {
          "output_type": "stream",
          "name": "stdout",
          "text": [
            "PRODUTIVIDADE/HORA for store U0143: 164.71428571428572\n"
          ]
        }
      ]
    },
    {
      "cell_type": "markdown",
      "source": [
        "# Sales Analyses"
      ],
      "metadata": {
        "id": "1zDzwPOWREZV"
      }
    },
    {
      "cell_type": "code",
      "source": [
        "import seaborn as sns\n",
        "import matplotlib.pyplot as plt\n",
        "import pandas as pd\n",
        "\n",
        "# Set seaborn style (optional)\n",
        "sns.set(style=\"whitegrid\")\n",
        "\n",
        "# Create boxplot for the column 'VALOR'\n",
        "plt.figure(figsize=(8, 6))\n",
        "sns.boxplot(y=dados_vendas['VALOR'])\n",
        "\n",
        "# Add title and axis labels\n",
        "plt.title('Boxplot of Value', fontsize=16)\n",
        "plt.ylabel('Value', fontsize=14)\n",
        "\n",
        "# Show the boxplot\n",
        "plt.show()\n",
        "\n"
      ],
      "metadata": {
        "colab": {
          "base_uri": "https://localhost:8080/",
          "height": 523
        },
        "id": "ngNoFf7azj68",
        "outputId": "b3a7c670-233a-4d29-8edd-568f75da0a0e"
      },
      "execution_count": null,
      "outputs": [
        {
          "output_type": "display_data",
          "data": {
            "text/plain": [
              "<Figure size 800x600 with 1 Axes>"
            ],
            "image/png": "[encoded data removed]"
          },
          "metadata": {}
        }
      ]
    },
    {
      "cell_type": "code",
      "source": [
        "# Create a scatter plot for the column 'VALOR' with 'FK_LOJA' on the x-axis\n",
        "plt.figure(figsize=(12, 6))\n",
        "sns.scatterplot(x=dados_vendas['FK_LOJA'], y=dados_vendas['VALOR'])\n",
        "\n",
        "# Add title and axis labels\n",
        "plt.title('Scatter Plot of Value by Store', fontsize=16)\n",
        "plt.xlabel('Store', fontsize=14)\n",
        "plt.ylabel('Value', fontsize=14)\n",
        "\n",
        "# Add a red line at y=1400000\n",
        "plt.axhline(y=1400000, color='red', linestyle='--', label='Limit')\n",
        "\n",
        "# Remove x-axis legend\n",
        "plt.xticks([])\n",
        "\n",
        "# Add legend\n",
        "plt.legend()\n",
        "\n",
        "# Show the scatter plot\n",
        "plt.show()\n",
        "\n"
      ],
      "metadata": {
        "colab": {
          "base_uri": "https://localhost:8080/",
          "height": 547
        },
        "id": "UAXz9_7lRVB0",
        "outputId": "18ca1329-4f34-40ea-a25d-31fd6aa37577"
      },
      "execution_count": null,
      "outputs": [
        {
          "output_type": "display_data",
          "data": {
            "text/plain": [
              "<Figure size 1200x600 with 1 Axes>"
            ],
            "image/png": "[encoded data removed]"
          },
          "metadata": {}
        }
      ]
    },
    {
      "cell_type": "code",
      "source": [
        "# Filter the DataFrame for rows where 'VALOR' is greater than 1400000\n",
        "stores_above_1400000 = dados_vendas.loc[dados_vendas['VALOR'] > 1400000, 'FK_LOJA']\n",
        "\n",
        "# Display the results\n",
        "print(\"FK_LOJA with values above 1400000:\")\n",
        "print(stores_above_1400000.unique())"
      ],
      "metadata": {
        "colab": {
          "base_uri": "https://localhost:8080/"
        },
        "id": "iY3sMnuBTD3W",
        "outputId": "7dc04e56-760d-4486-98a6-fdf7fa68c3d7"
      },
      "execution_count": null,
      "outputs": [
        {
          "output_type": "stream",
          "name": "stdout",
          "text": [
            "FK_LOJA with values above 1400000:\n",
            "['POR013']\n"
          ]
        }
      ]
    },
    {
      "cell_type": "code",
      "source": [
        "# Remove rows with values greater than 1400000 in the 'VALOR' column\n",
        "dados_vendas = dados_vendas.drop(dados_vendas[dados_vendas['VALOR'] > 1400000].index)\n",
        "\n",
        "# Display the DataFrame after the dropout\n",
        "print(dados_vendas)\n"
      ],
      "metadata": {
        "colab": {
          "base_uri": "https://localhost:8080/"
        },
        "id": "-DdJCO7wTY_Q",
        "outputId": "742e3a6f-e2db-4141-9a32-5c59c74ffbfc"
      },
      "execution_count": null,
      "outputs": [
        {
          "output_type": "stream",
          "name": "stdout",
          "text": [
            "       FK_SECAO             LOJA       DATA  ITENS          VALOR  SKUS_+  \\\n",
            "0           522            Viseu 2020-01-05  33814  109862.214392     891   \n",
            "1           522            Viseu 2020-01-09  22926   63819.583059    1655   \n",
            "2           522            Viseu 2020-01-24  26055   72578.031031     894   \n",
            "3           522            Viseu 2020-01-27  23556   60853.098660    1066   \n",
            "4           522            Viseu 2020-01-30  21653   61461.643038    1296   \n",
            "...         ...              ...        ...    ...            ...     ...   \n",
            "98623      1581  S - Bento Jesus 2023-09-24   2525    4896.189803     457   \n",
            "98624      1581  S - Bento Jesus 2023-09-28   2640    5069.048592     519   \n",
            "98625      1581  S - Bento Jesus 2023-10-16   2473    4568.633783     644   \n",
            "98626      1581  S - Bento Jesus 2023-10-17   2251    4641.189890     169   \n",
            "98627      1581  S - Bento Jesus 2023-10-25   2324    4485.222868     420   \n",
            "\n",
            "       SKUS_-  VAR_PREÇO_+  VAR_PREÇO_- FK_LOJA  \n",
            "0        1581     0.138385     0.127587  POR010  \n",
            "1        1200     0.106688     0.149941  POR010  \n",
            "2        1000     0.129946     0.123635  POR010  \n",
            "3        1121     0.180477     0.198495  POR010  \n",
            "4        1139     0.162686     0.181002  POR010  \n",
            "...       ...          ...          ...     ...  \n",
            "98623     433     0.114492     0.108196  POR446  \n",
            "98624     687     0.137739     0.166100  POR446  \n",
            "98625     592     0.161688     0.106815  POR446  \n",
            "98626    1662     0.013157     0.319095  POR446  \n",
            "98627     350     0.142228     0.122659  POR446  \n",
            "\n",
            "[98627 rows x 10 columns]\n"
          ]
        }
      ]
    },
    {
      "cell_type": "markdown",
      "source": [
        "# EXPORT TO CSV"
      ],
      "metadata": {
        "id": "shG-yUW1UlEN"
      }
    },
    {
      "cell_type": "code",
      "source": [
        "# Salvando o DataFrame em um arquivo CSV\n",
        "info_loja_2.to_csv('info_loja_2.csv', index=False)\n",
        "feriados.to_csv('feriados.csv', index=False)\n",
        "eventos.to_csv('eventos.csv', index=False)\n",
        "dados_vendas.to_csv('dados_vendas.csv', index=False)\n"
      ],
      "metadata": {
        "id": "Or_6ArEpUvq8"
      },
      "execution_count": null,
      "outputs": []
    },
    {
      "cell_type": "code",
      "source": [
        "from google.colab import files\n",
        "\n",
        "files.download('info_loja_2.csv')\n",
        "files.download('dados_vendas.csv')\n",
        "files.download('eventos.csv')\n",
        "files.download('feriados.csv')"
      ],
      "metadata": {
        "colab": {
          "base_uri": "https://localhost:8080/",
          "height": 17
        },
        "id": "SPVz12taV0iu",
        "outputId": "f15cc5e2-d28e-4b02-bff3-002683b05591"
      },
      "execution_count": null,
      "outputs": [
        {
          "output_type": "display_data",
          "data": {
            "text/plain": [
              "<IPython.core.display.Javascript object>"
            ],
            "application/javascript": [
              "\n",
              "    async function download(id, filename, size) {\n",
              "      if (!google.colab.kernel.accessAllowed) {\n",
              "        return;\n",
              "      }\n",
              "      const div = document.createElement('div');\n",
              "      const label = document.createElement('label');\n",
              "      label.textContent = `Downloading \"${filename}\": `;\n",
              "      div.appendChild(label);\n",
              "      const progress = document.createElement('progress');\n",
              "      progress.max = size;\n",
              "      div.appendChild(progress);\n",
              "      document.body.appendChild(div);\n",
              "\n",
              "      const buffers = [];\n",
              "      let downloaded = 0;\n",
              "\n",
              "      const channel = await google.colab.kernel.comms.open(id);\n",
              "      // Send a message to notify the kernel that we're ready.\n",
              "      channel.send({})\n",
              "\n",
              "      for await (const message of channel.messages) {\n",
              "        // Send a message to notify the kernel that we're ready.\n",
              "        channel.send({})\n",
              "        if (message.buffers) {\n",
              "          for (const buffer of message.buffers) {\n",
              "            buffers.push(buffer);\n",
              "            downloaded += buffer.byteLength;\n",
              "            progress.value = downloaded;\n",
              "          }\n",
              "        }\n",
              "      }\n",
              "      const blob = new Blob(buffers, {type: 'application/binary'});\n",
              "      const a = document.createElement('a');\n",
              "      a.href = window.URL.createObjectURL(blob);\n",
              "      a.download = filename;\n",
              "      div.appendChild(a);\n",
              "      a.click();\n",
              "      div.remove();\n",
              "    }\n",
              "  "
            ]
          },
          "metadata": {}
        },
        {
          "output_type": "display_data",
          "data": {
            "text/plain": [
              "<IPython.core.display.Javascript object>"
            ],
            "application/javascript": [
              "download(\"download_26cbae2b-4080-4c30-96bf-40cc767509af\", \"info_loja_2.csv\", 10775)"
            ]
          },
          "metadata": {}
        },
        {
          "output_type": "display_data",
          "data": {
            "text/plain": [
              "<IPython.core.display.Javascript object>"
            ],
            "application/javascript": [
              "\n",
              "    async function download(id, filename, size) {\n",
              "      if (!google.colab.kernel.accessAllowed) {\n",
              "        return;\n",
              "      }\n",
              "      const div = document.createElement('div');\n",
              "      const label = document.createElement('label');\n",
              "      label.textContent = `Downloading \"${filename}\": `;\n",
              "      div.appendChild(label);\n",
              "      const progress = document.createElement('progress');\n",
              "      progress.max = size;\n",
              "      div.appendChild(progress);\n",
              "      document.body.appendChild(div);\n",
              "\n",
              "      const buffers = [];\n",
              "      let downloaded = 0;\n",
              "\n",
              "      const channel = await google.colab.kernel.comms.open(id);\n",
              "      // Send a message to notify the kernel that we're ready.\n",
              "      channel.send({})\n",
              "\n",
              "      for await (const message of channel.messages) {\n",
              "        // Send a message to notify the kernel that we're ready.\n",
              "        channel.send({})\n",
              "        if (message.buffers) {\n",
              "          for (const buffer of message.buffers) {\n",
              "            buffers.push(buffer);\n",
              "            downloaded += buffer.byteLength;\n",
              "            progress.value = downloaded;\n",
              "          }\n",
              "        }\n",
              "      }\n",
              "      const blob = new Blob(buffers, {type: 'application/binary'});\n",
              "      const a = document.createElement('a');\n",
              "      a.href = window.URL.createObjectURL(blob);\n",
              "      a.download = filename;\n",
              "      div.appendChild(a);\n",
              "      a.click();\n",
              "      div.remove();\n",
              "    }\n",
              "  "
            ]
          },
          "metadata": {}
        },
        {
          "output_type": "display_data",
          "data": {
            "text/plain": [
              "<IPython.core.display.Javascript object>"
            ],
            "application/javascript": [
              "download(\"download_fec547ef-5d4b-45b2-933a-07f0df73d07c\", \"dados_vendas.csv\", 10673738)"
            ]
          },
          "metadata": {}
        },
        {
          "output_type": "display_data",
          "data": {
            "text/plain": [
              "<IPython.core.display.Javascript object>"
            ],
            "application/javascript": [
              "\n",
              "    async function download(id, filename, size) {\n",
              "      if (!google.colab.kernel.accessAllowed) {\n",
              "        return;\n",
              "      }\n",
              "      const div = document.createElement('div');\n",
              "      const label = document.createElement('label');\n",
              "      label.textContent = `Downloading \"${filename}\": `;\n",
              "      div.appendChild(label);\n",
              "      const progress = document.createElement('progress');\n",
              "      progress.max = size;\n",
              "      div.appendChild(progress);\n",
              "      document.body.appendChild(div);\n",
              "\n",
              "      const buffers = [];\n",
              "      let downloaded = 0;\n",
              "\n",
              "      const channel = await google.colab.kernel.comms.open(id);\n",
              "      // Send a message to notify the kernel that we're ready.\n",
              "      channel.send({})\n",
              "\n",
              "      for await (const message of channel.messages) {\n",
              "        // Send a message to notify the kernel that we're ready.\n",
              "        channel.send({})\n",
              "        if (message.buffers) {\n",
              "          for (const buffer of message.buffers) {\n",
              "            buffers.push(buffer);\n",
              "            downloaded += buffer.byteLength;\n",
              "            progress.value = downloaded;\n",
              "          }\n",
              "        }\n",
              "      }\n",
              "      const blob = new Blob(buffers, {type: 'application/binary'});\n",
              "      const a = document.createElement('a');\n",
              "      a.href = window.URL.createObjectURL(blob);\n",
              "      a.download = filename;\n",
              "      div.appendChild(a);\n",
              "      a.click();\n",
              "      div.remove();\n",
              "    }\n",
              "  "
            ]
          },
          "metadata": {}
        },
        {
          "output_type": "display_data",
          "data": {
            "text/plain": [
              "<IPython.core.display.Javascript object>"
            ],
            "application/javascript": [
              "download(\"download_08d088a3-53ad-4c75-903e-0c289c8524e7\", \"eventos.csv\", 3817)"
            ]
          },
          "metadata": {}
        },
        {
          "output_type": "display_data",
          "data": {
            "text/plain": [
              "<IPython.core.display.Javascript object>"
            ],
            "application/javascript": [
              "\n",
              "    async function download(id, filename, size) {\n",
              "      if (!google.colab.kernel.accessAllowed) {\n",
              "        return;\n",
              "      }\n",
              "      const div = document.createElement('div');\n",
              "      const label = document.createElement('label');\n",
              "      label.textContent = `Downloading \"${filename}\": `;\n",
              "      div.appendChild(label);\n",
              "      const progress = document.createElement('progress');\n",
              "      progress.max = size;\n",
              "      div.appendChild(progress);\n",
              "      document.body.appendChild(div);\n",
              "\n",
              "      const buffers = [];\n",
              "      let downloaded = 0;\n",
              "\n",
              "      const channel = await google.colab.kernel.comms.open(id);\n",
              "      // Send a message to notify the kernel that we're ready.\n",
              "      channel.send({})\n",
              "\n",
              "      for await (const message of channel.messages) {\n",
              "        // Send a message to notify the kernel that we're ready.\n",
              "        channel.send({})\n",
              "        if (message.buffers) {\n",
              "          for (const buffer of message.buffers) {\n",
              "            buffers.push(buffer);\n",
              "            downloaded += buffer.byteLength;\n",
              "            progress.value = downloaded;\n",
              "          }\n",
              "        }\n",
              "      }\n",
              "      const blob = new Blob(buffers, {type: 'application/binary'});\n",
              "      const a = document.createElement('a');\n",
              "      a.href = window.URL.createObjectURL(blob);\n",
              "      a.download = filename;\n",
              "      div.appendChild(a);\n",
              "      a.click();\n",
              "      div.remove();\n",
              "    }\n",
              "  "
            ]
          },
          "metadata": {}
        },
        {
          "output_type": "display_data",
          "data": {
            "text/plain": [
              "<IPython.core.display.Javascript object>"
            ],
            "application/javascript": [
              "download(\"download_3a89bb48-ffe1-4ca4-9062-815d9bbd0739\", \"feriados.csv\", 129852)"
            ]
          },
          "metadata": {}
        }
      ]
    }
  ]
}